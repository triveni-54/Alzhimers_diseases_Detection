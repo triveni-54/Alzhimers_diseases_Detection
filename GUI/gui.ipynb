{
 "cells": [
  {
   "cell_type": "code",
   "execution_count": 1,
   "id": "159adf2d",
   "metadata": {},
   "outputs": [
    {
     "name": "stderr",
     "output_type": "stream",
     "text": [
      "C:\\Users\\SSD\\anaconda3\\lib\\site-packages\\scipy\\__init__.py:146: UserWarning: A NumPy version >=1.16.5 and <1.23.0 is required for this version of SciPy (detected version 1.26.4\n",
      "  warnings.warn(f\"A NumPy version >={np_minversion} and <{np_maxversion}\"\n"
     ]
    },
    {
     "name": "stdout",
     "output_type": "stream",
     "text": [
      "1/1 [==============================] - 0s 316ms/step\n"
     ]
    }
   ],
   "source": [
    "import tkinter as tk\n",
    "from tkinter import filedialog\n",
    "from PIL import ImageTk, Image\n",
    "import numpy as np\n",
    "from keras.models import load_model\n",
    "from keras.utils import img_to_array\n",
    "from keras.preprocessing.image import ImageDataGenerator\n",
    "\n",
    "# Load the model without the optimizer\n",
    "model = load_model('Alzhiemer_model.h5', compile=False)\n",
    "\n",
    "# Define the class names\n",
    "class_names = ['Mild_Demented', 'Moderate_Demented', 'Non_Demented','Very_Mild_Demented']  # Replace with your actual class names\n",
    "class_labels = {i: class_name for i, class_name in enumerate(class_names)}\n",
    "\n",
    "# Create the main window\n",
    "root = tk.Tk()\n",
    "root.title(\"Alzheimer Disease Detection\")\n",
    "\n",
    "# Create a label for the main heading\n",
    "heading_label = tk.Label(root, text=\"Alzheimer Disease Detection\", font=(\"Arial\", 24, \"bold\"))\n",
    "heading_label.grid(row=0, column=0, columnspan=2, pady=20)\n",
    "\n",
    "# Create a label to display the Alzheimer image\n",
    "alzheimer_image = Image.open(\"stageofAD.png\")  # Replace with the path to your image\n",
    "alzheimer_image = alzheimer_image.resize((400, 400), Image.ANTIALIAS)\n",
    "alzheimer_photo = ImageTk.PhotoImage(alzheimer_image)\n",
    "alzheimer_label = tk.Label(root, image=alzheimer_photo)\n",
    "alzheimer_label.grid(row=1, column=0, padx=20, pady=20)\n",
    "\n",
    "# Create a label to display the uploaded image\n",
    "uploaded_image_label = tk.Label(root)\n",
    "uploaded_image_label.grid(row=1, column=1, padx=20, pady=20)\n",
    "\n",
    "def open_file():\n",
    "    file_path = filedialog.askopenfilename()\n",
    "    if file_path:\n",
    "        # Load and preprocess the image\n",
    "        img = Image.open(file_path)\n",
    "        img = img.resize((64, 64), Image.ANTIALIAS)\n",
    "        \n",
    "        # Convert image to RGB format\n",
    "        img = img.convert(\"RGB\")\n",
    "\n",
    "        photo_img = ImageTk.PhotoImage(img)\n",
    "        uploaded_image_label.configure(image=photo_img)\n",
    "        uploaded_image_label.image = photo_img\n",
    "\n",
    "        # Convert PhotoImage back to PIL Image\n",
    "        img = Image.fromarray(np.array(img))\n",
    "\n",
    "        # Make the prediction\n",
    "        x = img_to_array(img)\n",
    "        x = np.expand_dims(x, axis=0)\n",
    "        x = x / 255.0\n",
    "        prediction = model.predict(x)\n",
    "        predicted_class_index = np.argmax(prediction)\n",
    "        predicted_class = class_labels[predicted_class_index]\n",
    "\n",
    "        # Get the true label from the file path\n",
    "        true_label = file_path.split(\"/\")[-2]\n",
    "\n",
    "        # Display the true label and predicted label\n",
    "        result_label.config(text=f\"True Label: {true_label}\\nPredicted Label: {predicted_class}\")\n",
    "\n",
    "upload_button = tk.Button(root, text=\"Upload Image\", command=open_file)\n",
    "upload_button.grid(row=2, column=1, pady=10)\n",
    "\n",
    "# Create a label to display the result\n",
    "result_label = tk.Label(root, text=\"\", font=(\"Arial\", 14))\n",
    "result_label.grid(row=3, column=1, pady=10)\n",
    "\n",
    "# Start the main event loop\n",
    "root.mainloop()"
   ]
  },
  {
   "cell_type": "code",
   "execution_count": null,
   "id": "c9adafc9",
   "metadata": {},
   "outputs": [],
   "source": []
  }
 ],
 "metadata": {
  "kernelspec": {
   "display_name": "Python 3 (ipykernel)",
   "language": "python",
   "name": "python3"
  },
  "language_info": {
   "codemirror_mode": {
    "name": "ipython",
    "version": 3
   },
   "file_extension": ".py",
   "mimetype": "text/x-python",
   "name": "python",
   "nbconvert_exporter": "python",
   "pygments_lexer": "ipython3",
   "version": "3.9.12"
  }
 },
 "nbformat": 4,
 "nbformat_minor": 5
}
